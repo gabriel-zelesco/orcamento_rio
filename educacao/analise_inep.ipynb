{
 "cells": [
  {
   "cell_type": "code",
   "execution_count": 1,
   "id": "e8508c7e-5031-4b3d-971b-a505aeb69b91",
   "metadata": {},
   "outputs": [],
   "source": [
    "import pandas as pd\n",
    "import matplotlib.pyplot as plt\n",
    "import seaborn as sns"
   ]
  },
  {
   "cell_type": "code",
   "execution_count": 2,
   "id": "61145b0d-acd7-4c32-9f79-ca8aa6c06b76",
   "metadata": {},
   "outputs": [],
   "source": [
    "pd.set_option('display.max_columns', None)"
   ]
  },
  {
   "cell_type": "code",
   "execution_count": 3,
   "id": "aa8ba1d5-1c96-43ec-9ba9-eafede7bfe07",
   "metadata": {},
   "outputs": [],
   "source": [
    "colunas = [\n",
    "    'SG_UF',\n",
    "    'NO_MUNICIPIO',\n",
    "    'TP_DEPENDENCIA',\n",
    "    'TP_CATEGORIA_ESCOLA_PRIVADA',\n",
    "    'TP_SITUACAO_FUNCIONAMENTO',\n",
    "    'IN_VINCULO_SECRETARIA_EDUCACAO',\n",
    "    'IN_FORMA_CONT_TERMO_COLABORA',\n",
    "    'IN_FORMA_CONT_TERMO_FOMENTO',\n",
    "    'TP_PODER_PUBLICO_PARCERIA',\n",
    "    'IN_PODER_PUBLICO_PARCERIA',\n",
    "    'TP_RESPONSAVEL_REGULAMENTACAO',\n",
    "    'IN_QUADRA_ESPORTES',\n",
    "    'IN_ACESSIBILIDADE_INEXISTENTE',\n",
    "    'IN_PARQUE_INFANTIL',\n",
    "    'IN_PATIO_COBERTO',\n",
    "    'IN_PATIO_DESCOBERTO',\n",
    "    'IN_BANHEIRO_EI',\n",
    "    'IN_SALA_ATENDIMENTO_ESPECIAL',\n",
    "    'IN_PROF_ALIMENTACAO',\n",
    "    'IN_ALIMENTACAO',\n",
    "    'IN_MATERIAL_PED_INFANTIL',\n",
    "    'IN_MATERIAL_PED_JOGOS',\n",
    "    'IN_MATERIAL_PED_MUSICAL',\n",
    "    'IN_MATERIAL_PED_ARTISTICAS',\n",
    "    'IN_MATERIAL_PED_NENHUM',\n",
    "    'IN_AREA_VERDE',\n",
    "    'IN_INF_CRE',\n",
    "    'IN_INF_PRE',\n",
    "    'IN_INF',\n",
    "    'QT_MAT_INF_CRE',\n",
    "    'QT_MAT_INF_PRE',\n",
    "    'QT_MAT_INF',\n",
    "    'QT_MAT_INF_CRE_INT',\n",
    "    'QT_MAT_INF_PRE_INT',\n",
    "    'QT_MAT_INF_INT',\n",
    "    'IN_FUND',\n",
    "    'QT_MAT_INF',\n",
    "    'QT_MAT_INF_INT',\n",
    "    'QT_DOC_INF',\n",
    "    'QT_TUR_INF'\n",
    "]"
   ]
  },
  {
   "cell_type": "code",
   "execution_count": null,
   "id": "c3cdd1ae-9057-48db-8dbf-e84f999e3c3c",
   "metadata": {},
   "outputs": [],
   "source": []
  },
  {
   "cell_type": "code",
   "execution_count": 4,
   "id": "195b9b6c-b2ca-40d2-baff-3ea291e42915",
   "metadata": {},
   "outputs": [],
   "source": [
    "# preparar csc tudo filtrado rio\n",
    "#df = pd.read_csv('data/microdados_ed_basica_2022.csv', sep=';', encoding='latin1', usecols=colunas)"
   ]
  },
  {
   "cell_type": "code",
   "execution_count": 5,
   "id": "edf75f93-6fee-45c6-90b8-c35571808c78",
   "metadata": {},
   "outputs": [
    {
     "name": "stderr",
     "output_type": "stream",
     "text": [
      "C:\\Users\\Gabriel_Zelesco\\AppData\\Local\\Temp\\ipykernel_14032\\2838323612.py:1: DtypeWarning: Columns (27) have mixed types. Specify dtype option on import or set low_memory=False.\n",
      "  df = pd.read_csv('data/microdados_ed_basica_2022.csv', sep=';', encoding='latin1')\n"
     ]
    }
   ],
   "source": [
    "df = pd.read_csv('data/microdados_ed_basica_2022.csv', sep=';', encoding='latin1')"
   ]
  },
  {
   "cell_type": "code",
   "execution_count": 6,
   "id": "2b85994b-ddbe-44d9-8c39-19b39b9429f4",
   "metadata": {},
   "outputs": [],
   "source": [
    "df = df.query('(SG_UF == \"RJ\") & (NO_MUNICIPIO ==  \"Rio de Janeiro\")')"
   ]
  },
  {
   "cell_type": "raw",
   "id": "cae0d5a2-b9b1-4af0-88b7-905792a48cd1",
   "metadata": {},
   "source": [
    "# Para gerar arquivo csv com os dados do Municipio do Rio de Janeiro\n",
    "\n",
    "df.to_csv('inep_rio_2022.csv', index=False)"
   ]
  },
  {
   "cell_type": "markdown",
   "id": "f582b112-e6ce-4e7b-8f1a-201eacb996af",
   "metadata": {},
   "source": [
    "# Análise"
   ]
  },
  {
   "cell_type": "code",
   "execution_count": null,
   "id": "126c02c5-d695-4748-b7cf-8ed53ea91d1b",
   "metadata": {},
   "outputs": [],
   "source": [
    "# Filtrar Conveniadas\n",
    "'''\n",
    "'IN_FORMA_CONT_TERMO_FOMENTO' ou 'IN_FORMA_CONT_TERMO_COLABORA'\n",
    "+\n",
    "'TP_PODER_PUBLICO_PARCERIA'\n",
    "'''"
   ]
  },
  {
   "cell_type": "code",
   "execution_count": null,
   "id": "6f3e626e-cfda-4551-951e-98fe719f24de",
   "metadata": {},
   "outputs": [],
   "source": [
    "df_conveniadas = (\n",
    "    df\n",
    "    .query('(IN_FORMA_CONT_TERMO_FOMENTO == 1) | (IN_FORMA_CONT_TERMO_COLABORA == 1) & (TP_PODER_PUBLICO_PARCERIA == 1) & (IN_INF == 1)')\n",
    "    .reset_index()\n",
    ")"
   ]
  },
  {
   "cell_type": "code",
   "execution_count": null,
   "id": "1d04fbc8-8b07-4c38-b3a3-4bf78bf6d04b",
   "metadata": {},
   "outputs": [],
   "source": [
    "df_conveniadas"
   ]
  },
  {
   "cell_type": "code",
   "execution_count": null,
   "id": "30cb3252-262a-4037-a94e-87df087b18e2",
   "metadata": {},
   "outputs": [],
   "source": []
  },
  {
   "cell_type": "code",
   "execution_count": null,
   "id": "ae2e0237-674b-4023-8fe8-e47cad751f5d",
   "metadata": {},
   "outputs": [],
   "source": [
    "df_publico = (\n",
    "    df\n",
    "    .query('(TP_DEPENDENCIA == 3) & (IN_INF == 1)')\n",
    "    .reset_index()\n",
    ")"
   ]
  },
  {
   "cell_type": "code",
   "execution_count": null,
   "id": "6ccb927c-0166-4327-827f-b2a623ccd3da",
   "metadata": {},
   "outputs": [],
   "source": [
    "df_publico"
   ]
  },
  {
   "cell_type": "code",
   "execution_count": null,
   "id": "ed698132-e056-472e-a69e-0b5e51762c39",
   "metadata": {},
   "outputs": [],
   "source": [
    "df_inf_exclusivo = df_publico[df_publico['IN_FUND']==0]"
   ]
  },
  {
   "cell_type": "code",
   "execution_count": null,
   "id": "0c2e29d0-d7f0-4689-8265-9dc9dd4f02cd",
   "metadata": {},
   "outputs": [],
   "source": [
    "df_inf_exclusivo"
   ]
  },
  {
   "cell_type": "code",
   "execution_count": null,
   "id": "fbb18844-5ce4-4b9d-986e-06f88662e219",
   "metadata": {},
   "outputs": [],
   "source": [
    "df_inf_nao_exclusivo = df_publico[df_publico['IN_FUND']==1]"
   ]
  },
  {
   "cell_type": "code",
   "execution_count": null,
   "id": "31b76798-0ade-46a6-963d-dca4b9f01206",
   "metadata": {},
   "outputs": [],
   "source": [
    "df_inf_nao_exclusivo"
   ]
  },
  {
   "cell_type": "code",
   "execution_count": null,
   "id": "57834a20-2b43-4069-821c-891788d98c11",
   "metadata": {},
   "outputs": [],
   "source": []
  },
  {
   "cell_type": "code",
   "execution_count": null,
   "id": "906d1982-de6a-4059-af19-2df7dfe0408c",
   "metadata": {},
   "outputs": [],
   "source": [
    "df_inf_privada= (\n",
    "    df\n",
    "    .query('(TP_DEPENDENCIA == 4) & (IN_INF == 1) & (IN_PODER_PUBLICO_PARCERIA == 0)')\n",
    "    .reset_index()\n",
    ")"
   ]
  },
  {
   "cell_type": "code",
   "execution_count": null,
   "id": "7bda886d-ae91-437f-b572-54d0e44eff73",
   "metadata": {},
   "outputs": [],
   "source": [
    "df_inf_privada"
   ]
  },
  {
   "cell_type": "code",
   "execution_count": null,
   "id": "9046969b-5399-41a2-bc15-e250e9236732",
   "metadata": {},
   "outputs": [],
   "source": []
  },
  {
   "cell_type": "code",
   "execution_count": null,
   "id": "11b81f52-0197-4cff-92a6-838f6096cc75",
   "metadata": {},
   "outputs": [],
   "source": []
  },
  {
   "cell_type": "markdown",
   "id": "2203d4a7-131d-446f-beba-1d03970d7205",
   "metadata": {},
   "source": [
    "### Contrução do gráfico de 'qualidade' das escolas"
   ]
  },
  {
   "cell_type": "code",
   "execution_count": null,
   "id": "cc503083-9e4f-4fca-a389-6cb61f41b762",
   "metadata": {},
   "outputs": [],
   "source": [
    "df_infantil = (\n",
    "    df\n",
    "    .query('(IN_INF == 1) & (TP_DEPENDENCIA == [3,4])')\n",
    "    .reset_index()\n",
    ")"
   ]
  },
  {
   "cell_type": "code",
   "execution_count": null,
   "id": "8c81b3f5-b5e4-442d-9fb2-d77bd59d3ecd",
   "metadata": {},
   "outputs": [],
   "source": [
    "df_infantil"
   ]
  },
  {
   "cell_type": "code",
   "execution_count": null,
   "id": "1d0ae241-022c-4f60-890b-6613298a70a9",
   "metadata": {},
   "outputs": [],
   "source": [
    "\n",
    "adm_list = []\n",
    "for escola, parceria, segmento in zip(df_infantil['TP_DEPENDENCIA'], df_infantil['IN_PODER_PUBLICO_PARCERIA'], df_infantil['IN_FUND']):\n",
    "    if escola == 3:\n",
    "        if segmento == 0:\n",
    "            adm = 'municipal_exclusivo'\n",
    "        else:\n",
    "            adm = 'municipal_nao_exclusivo'\n",
    "        adm_list.append(adm)\n",
    "    elif escola == 4:\n",
    "        if parceria == 0:\n",
    "            adm = 'privado'\n",
    "        else:\n",
    "            adm = 'conveniado'\n",
    "        adm_list.append(adm)"
   ]
  },
  {
   "cell_type": "raw",
   "id": "6d004bbc-d724-4b39-a450-cae0cb9db1c8",
   "metadata": {},
   "source": [
    "adm_list = []\n",
    "for escola, parceria, segmento in zip(df_infantil['TP_DEPENDENCIA'], df_infantil['IN_PODER_PUBLICO_PARCERIA'], df_infantil['IN_FUND']):\n",
    "    if escola == 3:\n",
    "        adm = 'municipal'\n",
    "        adm_list.append(adm)\n",
    "    elif escola == 4:\n",
    "        if parceria == 0:\n",
    "            adm = 'privado'\n",
    "        else:\n",
    "            adm = 'conveniado'\n",
    "        adm_list.append(adm)"
   ]
  },
  {
   "cell_type": "code",
   "execution_count": null,
   "id": "4a3e8398-d476-4d01-8783-693393e24d2e",
   "metadata": {},
   "outputs": [],
   "source": [
    "df_infantil['adm'] = adm_list"
   ]
  },
  {
   "cell_type": "code",
   "execution_count": null,
   "id": "d4eb4cf6-d602-4fc8-b4be-3c182f6ab1c9",
   "metadata": {},
   "outputs": [],
   "source": [
    "df_infantil"
   ]
  },
  {
   "cell_type": "code",
   "execution_count": null,
   "id": "99ab19ba-76e5-44d0-b2ae-953a00819219",
   "metadata": {},
   "outputs": [],
   "source": [
    "df_somatorio = (\n",
    "    df_infantil\n",
    "    .groupby(['adm'])\n",
    "    .agg({'TP_SITUACAO_FUNCIONAMENTO' : 'sum'})\n",
    "    .reset_index()\n",
    ")"
   ]
  },
  {
   "cell_type": "code",
   "execution_count": null,
   "id": "98031f23-8184-494f-938a-22a6c4fbbc43",
   "metadata": {},
   "outputs": [],
   "source": [
    "df_somatorio"
   ]
  },
  {
   "cell_type": "code",
   "execution_count": null,
   "id": "cfecd515-8d5f-4961-8684-c17f21b02879",
   "metadata": {},
   "outputs": [],
   "source": [
    "df_infantil = (\n",
    "    df_infantil\n",
    "    .groupby(['adm'])\n",
    "    .agg({\n",
    "        'IN_AREA_VERDE' : 'sum',\n",
    "        'IN_BANHEIRO_EI' : 'sum',\n",
    "        'IN_PATIO_COBERTO' : 'sum',\n",
    "        'IN_PATIO_DESCOBERTO' : 'sum',\n",
    "        'IN_PARQUE_INFANTIL' : 'sum',\n",
    "        'IN_QUADRA_ESPORTES' : 'sum',\n",
    "        'IN_SALA_ATENDIMENTO_ESPECIAL' : 'sum',\n",
    "        'IN_ACESSIBILIDADE_INEXISTENTE' : 'sum',\n",
    "        'IN_PROF_ALIMENTACAO' : 'sum',\n",
    "        'IN_ALIMENTACAO' : 'sum',\n",
    "        'IN_MATERIAL_PED_INFANTIL' : 'sum',\n",
    "        'IN_MATERIAL_PED_MUSICAL' : 'sum',\n",
    "        'IN_MATERIAL_PED_JOGOS' : 'sum',\n",
    "        'IN_MATERIAL_PED_ARTISTICAS' : 'sum',\n",
    "        'IN_MATERIAL_PED_NENHUM' : 'sum',\n",
    "        'QT_MAT_INF' : 'sum',\n",
    "        'QT_MAT_INF_INT' : 'sum',\n",
    "        'QT_DOC_INF' : 'sum',\n",
    "        'QT_TUR_INF' : 'sum',\n",
    "    })\n",
    "    .reset_index()\n",
    ")"
   ]
  },
  {
   "cell_type": "code",
   "execution_count": null,
   "id": "b8e44136-9b11-4f45-9f2b-5a6256a157db",
   "metadata": {},
   "outputs": [],
   "source": [
    "df_infantil"
   ]
  },
  {
   "cell_type": "code",
   "execution_count": null,
   "id": "36737ac4-3bf3-4b17-a1c1-8e172004555b",
   "metadata": {},
   "outputs": [],
   "source": [
    "df_infantil = pd.merge(df_infantil, df_somatorio, on='adm')"
   ]
  },
  {
   "cell_type": "code",
   "execution_count": null,
   "id": "5c2a364b-b46e-49fb-bff1-cdc0fd824d6c",
   "metadata": {},
   "outputs": [],
   "source": [
    "df_infantil"
   ]
  },
  {
   "cell_type": "code",
   "execution_count": null,
   "id": "e5c5edd7-8b80-4d82-93b0-98852d30320f",
   "metadata": {},
   "outputs": [],
   "source": [
    "colunas_estrutura = [\n",
    "    'IN_QUADRA_ESPORTES',\n",
    "    'IN_ACESSIBILIDADE_INEXISTENTE',\n",
    "    'IN_PARQUE_INFANTIL',\n",
    "    'IN_PATIO_COBERTO',\n",
    "    'IN_PATIO_DESCOBERTO',\n",
    "    'IN_BANHEIRO_EI',\n",
    "    'IN_SALA_ATENDIMENTO_ESPECIAL',\n",
    "    'IN_PROF_ALIMENTACAO',\n",
    "    'IN_ALIMENTACAO',\n",
    "    'IN_MATERIAL_PED_INFANTIL',\n",
    "    'IN_MATERIAL_PED_JOGOS',\n",
    "    'IN_MATERIAL_PED_MUSICAL',\n",
    "    'IN_MATERIAL_PED_ARTISTICAS',\n",
    "    'IN_MATERIAL_PED_NENHUM',\n",
    "    'IN_AREA_VERDE',\n",
    "]"
   ]
  },
  {
   "cell_type": "code",
   "execution_count": null,
   "id": "8563a107-f4e0-4984-95d6-6c2cf541f6fa",
   "metadata": {},
   "outputs": [],
   "source": [
    "for column in colunas_estrutura:\n",
    "    df_infantil[f'{column}_pct'] = df_infantil[f'{column}'] / df_infantil['TP_SITUACAO_FUNCIONAMENTO']"
   ]
  },
  {
   "cell_type": "code",
   "execution_count": null,
   "id": "3858217c-06b1-4599-a8f4-ac18cb1035bd",
   "metadata": {},
   "outputs": [],
   "source": [
    "df_infantil"
   ]
  },
  {
   "cell_type": "markdown",
   "id": "be703d09-98b1-4d5c-9a0e-c5a7e9220315",
   "metadata": {},
   "source": [
    "# Gráfico de Qualidade de Estrutura"
   ]
  },
  {
   "cell_type": "code",
   "execution_count": null,
   "id": "026683ea-7fa4-444c-9e5c-c94fcfd17e86",
   "metadata": {},
   "outputs": [],
   "source": [
    "colunas_grafico_estrutura = [\n",
    "    'IN_QUADRA_ESPORTES_pct',\n",
    "    'IN_ACESSIBILIDADE_INEXISTENTE_pct',\n",
    "    'IN_PARQUE_INFANTIL_pct',\n",
    "    'IN_PATIO_COBERTO_pct',\n",
    "    'IN_PATIO_DESCOBERTO_pct',\n",
    "    'IN_BANHEIRO_EI_pct',\n",
    "    'IN_SALA_ATENDIMENTO_ESPECIAL_pct',\n",
    "    'IN_PROF_ALIMENTACAO_pct',\n",
    "    'IN_ALIMENTACAO_pct',\n",
    "    'IN_MATERIAL_PED_INFANTIL_pct',\n",
    "    'IN_MATERIAL_PED_JOGOS_pct',\n",
    "    'IN_MATERIAL_PED_MUSICAL_pct',\n",
    "    'IN_MATERIAL_PED_ARTISTICAS_pct',\n",
    "    'IN_MATERIAL_PED_NENHUM_pct',\n",
    "    'IN_AREA_VERDE_pct',\n",
    "]"
   ]
  },
  {
   "cell_type": "code",
   "execution_count": null,
   "id": "4cb66ac8-1a93-44f8-bf04-b4f7c4b9d796",
   "metadata": {},
   "outputs": [],
   "source": [
    "df_long = pd.melt(df_infantil, id_vars='adm', value_vars=colunas_grafico_estrutura)"
   ]
  },
  {
   "cell_type": "code",
   "execution_count": null,
   "id": "8d58ffbf-6784-4511-86e6-9468514da8df",
   "metadata": {},
   "outputs": [],
   "source": [
    "df_long "
   ]
  },
  {
   "cell_type": "code",
   "execution_count": null,
   "id": "c4dac866-a61a-46c4-807d-e841ac5634e6",
   "metadata": {},
   "outputs": [],
   "source": [
    "ax = sns.scatterplot(\n",
    "    data=df_long,\n",
    "    x='variable',\n",
    "    y='value',\n",
    "    hue='adm'\n",
    ")\n",
    "\n",
    "ax.set_xticklabels(df_long.variable.unique(), rotation=90)\n",
    "ax.legend(bbox_to_anchor=(1.1, 1.05))\n",
    "ax.grid()"
   ]
  },
  {
   "cell_type": "code",
   "execution_count": null,
   "id": "d09efd7f-ee0f-4399-922b-1415c9709f27",
   "metadata": {},
   "outputs": [],
   "source": [
    "f, ax = plt.subplots(figsize=(8, 10))\n",
    "sns.barplot(data=df_long, x=\"value\", y=\"variable\", hue=\"adm\", ax=ax, palette='inferno')\n",
    "ax.legend(bbox_to_anchor=(1.4, 1.01))\n",
    "ax.grid()"
   ]
  },
  {
   "cell_type": "markdown",
   "id": "28f24767-0dec-4319-8de6-191875f7482d",
   "metadata": {},
   "source": [
    "## Graficos de Qualidade"
   ]
  },
  {
   "cell_type": "code",
   "execution_count": null,
   "id": "e5b4e70f-b0e9-4b7c-bcae-0081563eac21",
   "metadata": {},
   "outputs": [],
   "source": [
    "colunas_qualidade = [\n",
    "    'adm',\n",
    "    'QT_MAT_INF',\n",
    "    'QT_MAT_INF_INT',\n",
    "    'QT_DOC_INF',\n",
    "    'QT_TUR_INF',\n",
    "    'TP_SITUACAO_FUNCIONAMENTO'\n",
    "]"
   ]
  },
  {
   "cell_type": "code",
   "execution_count": null,
   "id": "444b44fd-ce61-425c-8533-51f2ac8c70a6",
   "metadata": {},
   "outputs": [],
   "source": [
    "df_qualidade = df_infantil[colunas_qualidade]"
   ]
  },
  {
   "cell_type": "code",
   "execution_count": null,
   "id": "c3652509-8768-4ad6-8280-80500d3ea328",
   "metadata": {},
   "outputs": [],
   "source": [
    "df_qualidade"
   ]
  },
  {
   "cell_type": "code",
   "execution_count": null,
   "id": "2fa1e350-e40a-4fe1-a3d9-9e2adb72691f",
   "metadata": {},
   "outputs": [],
   "source": [
    "df_qualidade = df_qualidade.assign(\n",
    "    matriculas_por_turmas = df_qualidade['QT_MAT_INF'] / df_qualidade['QT_TUR_INF'],\n",
    "    mat_integral = df_qualidade['QT_MAT_INF_INT'] / df_qualidade['QT_MAT_INF'],\n",
    "    matriculas_por_docentes = df_qualidade['QT_MAT_INF'] / df_qualidade['QT_DOC_INF'],\n",
    "    turmas_por_docentes = df_qualidade['QT_TUR_INF'] / df_qualidade['QT_DOC_INF']\n",
    ")"
   ]
  },
  {
   "cell_type": "code",
   "execution_count": null,
   "id": "734dd8b8-9384-4c81-94ed-c80e1480af22",
   "metadata": {},
   "outputs": [],
   "source": [
    "df_qualidade"
   ]
  },
  {
   "cell_type": "markdown",
   "id": "580e7d4a-0129-429a-aa30-f05173153ace",
   "metadata": {},
   "source": [
    "Exportação da planilha principal sobre qualidade"
   ]
  },
  {
   "cell_type": "code",
   "execution_count": null,
   "id": "988b9c18-bdd8-42c5-ac47-01b968d4973f",
   "metadata": {},
   "outputs": [],
   "source": [
    "colunas_export = [\n",
    "    'adm',\n",
    "    'matriculas_por_turmas',\n",
    "    'mat_integral',\n",
    "    'matriculas_por_docentes',\n",
    "    'turmas_por_docentes',\n",
    "]"
   ]
  },
  {
   "cell_type": "code",
   "execution_count": null,
   "id": "40e289b3-cecf-41ed-bb51-c8ee9338eb98",
   "metadata": {},
   "outputs": [],
   "source": [
    "df_long_export= pd.melt(df_qualidade, id_vars='adm', value_vars=colunas_export)"
   ]
  },
  {
   "cell_type": "code",
   "execution_count": null,
   "id": "9ccf85c9-a40c-46df-a34b-0e412ce7c8b6",
   "metadata": {},
   "outputs": [],
   "source": [
    "df_long_export"
   ]
  },
  {
   "cell_type": "code",
   "execution_count": null,
   "id": "7d6e9f5c-7acf-4590-b934-e5a2e398452f",
   "metadata": {},
   "outputs": [],
   "source": [
    "df_long_export.to_excel('infantil_escolas_qualidade.xlsx', index=False)"
   ]
  },
  {
   "cell_type": "markdown",
   "id": "b40e29b7-0117-469b-9587-5f173c970409",
   "metadata": {},
   "source": [
    "## Grafico 1: Matriculas vs Turmas"
   ]
  },
  {
   "cell_type": "code",
   "execution_count": null,
   "id": "3b616239-f910-46b3-9530-e1ff80221625",
   "metadata": {},
   "outputs": [],
   "source": [
    "colunas_grafico1 = [\n",
    "    'adm',\n",
    "    'matriculas_por_turmas',\n",
    "]"
   ]
  },
  {
   "cell_type": "code",
   "execution_count": null,
   "id": "db147b08-121e-40f9-bdc5-d7ebb480fe04",
   "metadata": {},
   "outputs": [],
   "source": [
    "df_long1 = pd.melt(df_qualidade, id_vars='adm', value_vars=colunas_grafico1)"
   ]
  },
  {
   "cell_type": "code",
   "execution_count": null,
   "id": "80c63061-d062-4d9d-aae6-41f2cfcc22e8",
   "metadata": {},
   "outputs": [],
   "source": [
    "df_long1"
   ]
  },
  {
   "cell_type": "code",
   "execution_count": null,
   "id": "fe7f6cae-5143-412f-bf90-1e747dea5d95",
   "metadata": {},
   "outputs": [],
   "source": [
    "# Matriculas vs Turmas\n",
    "f, ax = plt.subplots(figsize=(4, 4))\n",
    "sns.barplot(data=df_long1,\n",
    "            x=\"variable\",\n",
    "            y=\"value\",\n",
    "            hue=\"adm\",\n",
    "            ax=ax,\n",
    "            palette='inferno')\n",
    "\n",
    "ax.legend(bbox_to_anchor=(1.4, 1.01))\n",
    "ax.set(title='Matriculas por Turma',\n",
    "       ylabel='qtd matriculas',\n",
    "       xlabel=None)\n",
    "\n",
    "ax.grid()"
   ]
  },
  {
   "cell_type": "markdown",
   "id": "6c80ca08-2a48-4fff-a43c-ae10eb54fb11",
   "metadata": {},
   "source": [
    "## Grafico 2: % de matriculas em tempo integral"
   ]
  },
  {
   "cell_type": "code",
   "execution_count": null,
   "id": "fd6bd59f-746a-4c3c-ac10-b84261dc9677",
   "metadata": {},
   "outputs": [],
   "source": [
    "colunas_grafico2 = [\n",
    "    'adm',\n",
    "    'mat_integral',\n",
    "]"
   ]
  },
  {
   "cell_type": "code",
   "execution_count": null,
   "id": "0cc1465e-67f1-4ee2-a900-6edd174cf701",
   "metadata": {},
   "outputs": [],
   "source": [
    "df_long2 = pd.melt(df_qualidade, id_vars='adm', value_vars=colunas_grafico2)"
   ]
  },
  {
   "cell_type": "code",
   "execution_count": null,
   "id": "ed4227d7-3a57-49f9-a9ab-b2de266c4a9a",
   "metadata": {},
   "outputs": [],
   "source": [
    "df_long2 "
   ]
  },
  {
   "cell_type": "code",
   "execution_count": null,
   "id": "33c2280b-ce34-4332-9afe-c61967e92a21",
   "metadata": {},
   "outputs": [],
   "source": [
    "f, ax = plt.subplots(figsize=(4, 4))\n",
    "sns.barplot(data=df_long2,\n",
    "            x=\"variable\",\n",
    "            y=\"value\",\n",
    "            hue=\"adm\",\n",
    "            ax=ax,\n",
    "            palette='inferno')\n",
    "\n",
    "ax.legend(bbox_to_anchor=(2, 1.01))\n",
    "ax.set(title='% de matriculas em tempo integral',\n",
    "       ylabel='pct matriculas',\n",
    "       xlabel=None)\n",
    "\n",
    "ax.grid()"
   ]
  },
  {
   "cell_type": "markdown",
   "id": "f14b44dc-5882-41bb-887e-fe38d0b0d685",
   "metadata": {},
   "source": [
    "## Grafico 3: Matriculas por docentes"
   ]
  },
  {
   "cell_type": "code",
   "execution_count": null,
   "id": "e517a250-c523-4b0f-9721-5f15c495658d",
   "metadata": {},
   "outputs": [],
   "source": [
    "colunas_grafico3 = [\n",
    "    'adm',\n",
    "    'matriculas_por_docentes',\n",
    "]"
   ]
  },
  {
   "cell_type": "code",
   "execution_count": null,
   "id": "9e9e4e25-5cbe-443f-99dd-70dca10ea22a",
   "metadata": {},
   "outputs": [],
   "source": [
    "df_long3 = pd.melt(df_qualidade, id_vars='adm', value_vars=colunas_grafico3)"
   ]
  },
  {
   "cell_type": "code",
   "execution_count": null,
   "id": "faf0bd84-11a6-4058-b110-951c05768e9a",
   "metadata": {},
   "outputs": [],
   "source": [
    "df_long3"
   ]
  },
  {
   "cell_type": "code",
   "execution_count": null,
   "id": "c0edca5e-27ec-408e-83d8-e503d2bb3e40",
   "metadata": {},
   "outputs": [],
   "source": [
    "f, ax = plt.subplots(figsize=(4, 4))\n",
    "sns.barplot(data=df_long3,\n",
    "            x=\"variable\",\n",
    "            y=\"value\",\n",
    "            hue=\"adm\",\n",
    "            ax=ax,\n",
    "            palette='inferno')\n",
    "\n",
    "ax.legend(bbox_to_anchor=(1.4, 1.01))\n",
    "ax.set(title='Matriculas por Docente',\n",
    "       ylabel='qtd matriculas',\n",
    "       xlabel=None)\n",
    "\n",
    "ax.grid()"
   ]
  },
  {
   "cell_type": "markdown",
   "id": "b7a291ac-93e7-4096-85b1-6939904da9d2",
   "metadata": {},
   "source": [
    "## Grafico 4: Turmas por Docente"
   ]
  },
  {
   "cell_type": "code",
   "execution_count": null,
   "id": "9cea15d9-7650-462d-bc42-ce5a4c28e959",
   "metadata": {},
   "outputs": [],
   "source": [
    "colunas_grafico4 = [\n",
    "    'adm',\n",
    "    'turmas_por_docentes',\n",
    "]"
   ]
  },
  {
   "cell_type": "code",
   "execution_count": null,
   "id": "d80eae03-790a-4cab-92ad-106e6b425db8",
   "metadata": {},
   "outputs": [],
   "source": [
    "df_long4 = pd.melt(df_qualidade, id_vars='adm', value_vars=colunas_grafico4)"
   ]
  },
  {
   "cell_type": "code",
   "execution_count": null,
   "id": "82d5055b-1579-41ea-b87c-221d7ad49dd0",
   "metadata": {},
   "outputs": [],
   "source": [
    "df_long4"
   ]
  },
  {
   "cell_type": "code",
   "execution_count": null,
   "id": "edb39530-69ce-4ea7-911d-4d5060522b4e",
   "metadata": {},
   "outputs": [],
   "source": [
    "f, ax = plt.subplots(figsize=(4, 4))\n",
    "sns.barplot(data=df_long4,\n",
    "            x=\"variable\",\n",
    "            y=\"value\",\n",
    "            hue=\"adm\",\n",
    "            ax=ax,\n",
    "            palette='inferno')\n",
    "\n",
    "ax.legend(bbox_to_anchor=(1.4, 1.01))\n",
    "ax.set(title='Turmas por Docente',\n",
    "       ylabel='qtd turmas',\n",
    "       xlabel=None)\n",
    "\n",
    "ax.grid()"
   ]
  },
  {
   "cell_type": "code",
   "execution_count": null,
   "id": "059c0c25-75c8-414f-af87-5041743d9098",
   "metadata": {},
   "outputs": [],
   "source": []
  },
  {
   "cell_type": "code",
   "execution_count": null,
   "id": "e046f0b9-374d-47a9-ab7b-c0d78775d685",
   "metadata": {},
   "outputs": [],
   "source": []
  }
 ],
 "metadata": {
  "kernelspec": {
   "display_name": "Python 3 (ipykernel)",
   "language": "python",
   "name": "python3"
  },
  "language_info": {
   "codemirror_mode": {
    "name": "ipython",
    "version": 3
   },
   "file_extension": ".py",
   "mimetype": "text/x-python",
   "name": "python",
   "nbconvert_exporter": "python",
   "pygments_lexer": "ipython3",
   "version": "3.10.10"
  }
 },
 "nbformat": 4,
 "nbformat_minor": 5
}
